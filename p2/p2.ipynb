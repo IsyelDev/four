{
 "cells": [
  {
   "cell_type": "code",
   "execution_count": 1,
   "id": "f38cbdc0",
   "metadata": {},
   "outputs": [],
   "source": [
    "import yfinance\n",
    "import pyautogui\n",
    "import pyperclip\n",
    "import webbrowser\n",
    "import time"
   ]
  },
  {
   "cell_type": "code",
   "execution_count": 11,
   "id": "08ba7754",
   "metadata": {},
   "outputs": [],
   "source": [
    "webbrowser.open(\"https://mail.google.com/mail/u/0/#inbox\")\n",
    "time.sleep(3)\n",
    "pyautogui.click()"
   ]
  },
  {
   "cell_type": "code",
   "execution_count": 12,
   "id": "5654285b",
   "metadata": {},
   "outputs": [
    {
     "data": {
      "text/plain": [
       "Point(x=-1846, y=535)"
      ]
     },
     "execution_count": 12,
     "metadata": {},
     "output_type": "execute_result"
    }
   ],
   "source": [
    "time.sleep(4)\n",
    "pyautogui.position()\n"
   ]
  }
 ],
 "metadata": {
  "kernelspec": {
   "display_name": "venv",
   "language": "python",
   "name": "python3"
  },
  "language_info": {
   "codemirror_mode": {
    "name": "ipython",
    "version": 3
   },
   "file_extension": ".py",
   "mimetype": "text/x-python",
   "name": "python",
   "nbconvert_exporter": "python",
   "pygments_lexer": "ipython3",
   "version": "3.13.3"
  }
 },
 "nbformat": 4,
 "nbformat_minor": 5
}
